{
  "nbformat": 4,
  "nbformat_minor": 0,
  "metadata": {
    "colab": {
      "name": "Emotion recognition training.ipynb",
      "provenance": []
    },
    "kernelspec": {
      "name": "python3",
      "display_name": "Python 3"
    },
    "accelerator": "GPU"
  },
  "cells": [
    {
      "cell_type": "code",
      "metadata": {
        "id": "1aY05yRUrckt",
        "outputId": "29b2e958-5e0b-4c92-8ed2-f81daed7ea32",
        "colab": {
          "base_uri": "https://localhost:8080/",
          "height": 34
        }
      },
      "source": [
        "from google.colab import drive\n",
        "drive.mount('/content/drive')"
      ],
      "execution_count": 1,
      "outputs": [
        {
          "output_type": "stream",
          "text": [
            "Mounted at /content/drive\n"
          ],
          "name": "stdout"
        }
      ]
    },
    {
      "cell_type": "code",
      "metadata": {
        "id": "ErQaq7_RdWNi"
      },
      "source": [
        "import pandas as pd\n",
        "import numpy as np\n",
        "from tensorflow.keras.models import Sequential,load_model,model_from_json\n",
        "from tensorflow.keras.layers import Flatten,Dense,Dropout,Convolution2D,MaxPooling2D,BatchNormalization\n",
        "from sklearn.model_selection import train_test_split \n",
        "from tensorflow.keras import utils\n",
        "from tensorflow.keras.callbacks import LearningRateScheduler"
      ],
      "execution_count": 3,
      "outputs": []
    },
    {
      "cell_type": "code",
      "metadata": {
        "id": "K_FEnXWOdWR8",
        "outputId": "951fa392-30ae-41a3-c03a-ba7e70ad8d1c",
        "colab": {
          "base_uri": "https://localhost:8080/",
          "height": 195
        }
      },
      "source": [
        "data =pd.read_csv('/content/drive/My Drive/fer2013.csv')\n",
        "data.head()"
      ],
      "execution_count": 4,
      "outputs": [
        {
          "output_type": "execute_result",
          "data": {
            "text/html": [
              "<div>\n",
              "<style scoped>\n",
              "    .dataframe tbody tr th:only-of-type {\n",
              "        vertical-align: middle;\n",
              "    }\n",
              "\n",
              "    .dataframe tbody tr th {\n",
              "        vertical-align: top;\n",
              "    }\n",
              "\n",
              "    .dataframe thead th {\n",
              "        text-align: right;\n",
              "    }\n",
              "</style>\n",
              "<table border=\"1\" class=\"dataframe\">\n",
              "  <thead>\n",
              "    <tr style=\"text-align: right;\">\n",
              "      <th></th>\n",
              "      <th>emotion</th>\n",
              "      <th>pixels</th>\n",
              "      <th>Usage</th>\n",
              "    </tr>\n",
              "  </thead>\n",
              "  <tbody>\n",
              "    <tr>\n",
              "      <th>0</th>\n",
              "      <td>0</td>\n",
              "      <td>70 80 82 72 58 58 60 63 54 58 60 48 89 115 121...</td>\n",
              "      <td>Training</td>\n",
              "    </tr>\n",
              "    <tr>\n",
              "      <th>1</th>\n",
              "      <td>0</td>\n",
              "      <td>151 150 147 155 148 133 111 140 170 174 182 15...</td>\n",
              "      <td>Training</td>\n",
              "    </tr>\n",
              "    <tr>\n",
              "      <th>2</th>\n",
              "      <td>2</td>\n",
              "      <td>231 212 156 164 174 138 161 173 182 200 106 38...</td>\n",
              "      <td>Training</td>\n",
              "    </tr>\n",
              "    <tr>\n",
              "      <th>3</th>\n",
              "      <td>4</td>\n",
              "      <td>24 32 36 30 32 23 19 20 30 41 21 22 32 34 21 1...</td>\n",
              "      <td>Training</td>\n",
              "    </tr>\n",
              "    <tr>\n",
              "      <th>4</th>\n",
              "      <td>6</td>\n",
              "      <td>4 0 0 0 0 0 0 0 0 0 0 0 3 15 23 28 48 50 58 84...</td>\n",
              "      <td>Training</td>\n",
              "    </tr>\n",
              "  </tbody>\n",
              "</table>\n",
              "</div>"
            ],
            "text/plain": [
              "   emotion                                             pixels     Usage\n",
              "0        0  70 80 82 72 58 58 60 63 54 58 60 48 89 115 121...  Training\n",
              "1        0  151 150 147 155 148 133 111 140 170 174 182 15...  Training\n",
              "2        2  231 212 156 164 174 138 161 173 182 200 106 38...  Training\n",
              "3        4  24 32 36 30 32 23 19 20 30 41 21 22 32 34 21 1...  Training\n",
              "4        6  4 0 0 0 0 0 0 0 0 0 0 0 3 15 23 28 48 50 58 84...  Training"
            ]
          },
          "metadata": {
            "tags": []
          },
          "execution_count": 4
        }
      ]
    },
    {
      "cell_type": "code",
      "metadata": {
        "id": "G6R_LVsHdWUc",
        "outputId": "5859527d-0118-489f-97d3-bdd43a778bd7",
        "colab": {
          "base_uri": "https://localhost:8080/",
          "height": 34
        }
      },
      "source": [
        "data['Usage'].unique()"
      ],
      "execution_count": 5,
      "outputs": [
        {
          "output_type": "execute_result",
          "data": {
            "text/plain": [
              "array(['Training', 'PublicTest', 'PrivateTest'], dtype=object)"
            ]
          },
          "metadata": {
            "tags": []
          },
          "execution_count": 5
        }
      ]
    },
    {
      "cell_type": "code",
      "metadata": {
        "id": "OSPUiyZVdWZg"
      },
      "source": [
        "train_x,train_y,test_x,test_y=[],[],[],[]\n",
        "for i,j in data.iterrows():\n",
        "  if j['Usage']=='Training' or j['Usage']=='PublicTest':\n",
        "    train_x.append(np.array(j['pixels'].split(),dtype=float))\n",
        "    train_y.append(np.array(j['emotion'],dtype=int))\n",
        "  else:\n",
        "    test_x.append(np.array(j['pixels'].split(),dtype=float))\n",
        "    test_y.append(np.array(j['emotion'],dtype=int))"
      ],
      "execution_count": 6,
      "outputs": []
    },
    {
      "cell_type": "code",
      "metadata": {
        "id": "cgbilX6tdWco"
      },
      "source": [
        "train_x,train_y=np.array(train_x).reshape(len(train_x),48,48,1),np.array(train_y)\n",
        "test_x,test_y=np.array(test_x).reshape(len(test_x),48,48,1),np.array(test_y)"
      ],
      "execution_count": 7,
      "outputs": []
    },
    {
      "cell_type": "code",
      "metadata": {
        "id": "4_w30w9IgMxD"
      },
      "source": [
        "train_y=utils.to_categorical(train_y,len(data['emotion'].unique()))"
      ],
      "execution_count": 8,
      "outputs": []
    },
    {
      "cell_type": "code",
      "metadata": {
        "id": "B2S8za7IhTHt"
      },
      "source": [
        "test_y=utils.to_categorical(test_y,len(data['emotion'].unique()))"
      ],
      "execution_count": 9,
      "outputs": []
    },
    {
      "cell_type": "code",
      "metadata": {
        "id": "FKOlQj5UdWhs",
        "outputId": "8a68c5c9-dfb3-4201-d75d-499f1614d01e",
        "colab": {
          "base_uri": "https://localhost:8080/",
          "height": 34
        }
      },
      "source": [
        "train_x.shape"
      ],
      "execution_count": 10,
      "outputs": [
        {
          "output_type": "execute_result",
          "data": {
            "text/plain": [
              "(32298, 48, 48, 1)"
            ]
          },
          "metadata": {
            "tags": []
          },
          "execution_count": 10
        }
      ]
    },
    {
      "cell_type": "code",
      "metadata": {
        "id": "a0PAJF7vdWkZ",
        "outputId": "46d948a9-ab53-4a10-dcb5-35400f8c8ea5",
        "colab": {
          "base_uri": "https://localhost:8080/",
          "height": 34
        }
      },
      "source": [
        "train_y.shape"
      ],
      "execution_count": 11,
      "outputs": [
        {
          "output_type": "execute_result",
          "data": {
            "text/plain": [
              "(32298, 7)"
            ]
          },
          "metadata": {
            "tags": []
          },
          "execution_count": 11
        }
      ]
    },
    {
      "cell_type": "code",
      "metadata": {
        "id": "B5lrFYn4dWoR",
        "outputId": "c174707c-d9a4-47bf-8d19-2956199d3c87",
        "colab": {
          "base_uri": "https://localhost:8080/",
          "height": 34
        }
      },
      "source": [
        "test_x.shape"
      ],
      "execution_count": 12,
      "outputs": [
        {
          "output_type": "execute_result",
          "data": {
            "text/plain": [
              "(3589, 48, 48, 1)"
            ]
          },
          "metadata": {
            "tags": []
          },
          "execution_count": 12
        }
      ]
    },
    {
      "cell_type": "code",
      "metadata": {
        "id": "XczJRSp6dWfv",
        "outputId": "97a7bae7-1f3e-47e8-928e-b6a3cd75f588",
        "colab": {
          "base_uri": "https://localhost:8080/",
          "height": 34
        }
      },
      "source": [
        "test_y.shape"
      ],
      "execution_count": 13,
      "outputs": [
        {
          "output_type": "execute_result",
          "data": {
            "text/plain": [
              "(3589, 7)"
            ]
          },
          "metadata": {
            "tags": []
          },
          "execution_count": 13
        }
      ]
    },
    {
      "cell_type": "code",
      "metadata": {
        "id": "7bZjS01vdWXm"
      },
      "source": [
        "model = Sequential()\n",
        "model.add(Convolution2D(32,(3,3),padding='same',input_shape=(48,48,1),activation='relu',))\n",
        "model.add(BatchNormalization())\n",
        "model.add(Convolution2D(32,(3,3),padding='same',activation='relu'))\n",
        "model.add(BatchNormalization())\n",
        "model.add(MaxPooling2D(pool_size=(2,2)))\n",
        "model.add(Dropout(0.2))\n",
        "model.add(Convolution2D(64,(3,3),padding='same',activation='relu'))\n",
        "model.add(BatchNormalization())\n",
        "model.add(Convolution2D(64,(3,3),padding='same',activation='relu'))\n",
        "model.add(BatchNormalization())\n",
        "model.add(MaxPooling2D(pool_size=(2,2)))\n",
        "model.add(Dropout(0.2))\n",
        "model.add(Convolution2D(128,(3,3),padding='same',activation='relu'))\n",
        "model.add(BatchNormalization())\n",
        "model.add(Convolution2D(128,(3,3),padding='same',activation='relu'))\n",
        "model.add(BatchNormalization())\n",
        "model.add(MaxPooling2D(pool_size=(2,2)))\n",
        "model.add(Dropout(0.2))\n",
        "model.add(Convolution2D(256,(3,3),padding='same',activation='relu'))\n",
        "model.add(BatchNormalization())\n",
        "model.add(Convolution2D(256,(3,3),padding='same',activation='relu'))\n",
        "model.add(BatchNormalization())\n",
        "model.add(MaxPooling2D(pool_size=(2,2)))\n",
        "model.add(Dropout(0.2))\n",
        "model.add(Flatten())\n",
        "model.add(Dense(64,activation='relu'))\n",
        "model.add(BatchNormalization())\n",
        "model.add(Dropout(0.5))\n",
        "model.add(Dense(64,activation='relu'))\n",
        "model.add(BatchNormalization())\n",
        "model.add(Dropout(0.5))\n",
        "model.add(Dense(7,activation='softmax'))"
      ],
      "execution_count": 21,
      "outputs": []
    },
    {
      "cell_type": "code",
      "metadata": {
        "id": "LwnEFY_tkOXZ"
      },
      "source": [
        "def decay_rate(epoch,lr):\n",
        "  if epoch>50:\n",
        "    decay_constant=0.001\n",
        "    new_lr=lr*(1/(1+decay_constant*(epoch-50)))\n",
        "  else:\n",
        "    new_lr=lr\n",
        "  print(f'Previous lr was {lr} and new lr is {new_lr}')\n",
        "  return new_lr"
      ],
      "execution_count": 22,
      "outputs": []
    },
    {
      "cell_type": "code",
      "metadata": {
        "id": "SnZ3pxCKnH8n"
      },
      "source": [
        "model.compile(loss='categorical_crossentropy',optimizer='adam',metrics=['accuracy'])"
      ],
      "execution_count": 23,
      "outputs": []
    },
    {
      "cell_type": "code",
      "metadata": {
        "id": "X45H9JMCdWQI",
        "outputId": "c1ba2bf7-2a2b-43d9-a764-68837b9a6a25",
        "colab": {
          "base_uri": "https://localhost:8080/",
          "height": 1000
        }
      },
      "source": [
        "model.fit(train_x,train_y,validation_data=(test_x,test_y),epochs=200,batch_size=64,callbacks=[LearningRateScheduler(decay_rate)])"
      ],
      "execution_count": 24,
      "outputs": [
        {
          "output_type": "stream",
          "text": [
            "Previous lr was 0.0010000000474974513 and new lr is 0.0010000000474974513\n",
            "Epoch 1/200\n",
            "505/505 [==============================] - 11s 21ms/step - loss: 2.1468 - accuracy: 0.2109 - val_loss: 1.7598 - val_accuracy: 0.2739\n",
            "Previous lr was 0.0010000000474974513 and new lr is 0.0010000000474974513\n",
            "Epoch 2/200\n",
            "505/505 [==============================] - 10s 20ms/step - loss: 1.7553 - accuracy: 0.2984 - val_loss: 1.5746 - val_accuracy: 0.3909\n",
            "Previous lr was 0.0010000000474974513 and new lr is 0.0010000000474974513\n",
            "Epoch 3/200\n",
            "505/505 [==============================] - 10s 20ms/step - loss: 1.4800 - accuracy: 0.4268 - val_loss: 1.4178 - val_accuracy: 0.4600\n",
            "Previous lr was 0.0010000000474974513 and new lr is 0.0010000000474974513\n",
            "Epoch 4/200\n",
            "505/505 [==============================] - 10s 20ms/step - loss: 1.3434 - accuracy: 0.4880 - val_loss: 1.2377 - val_accuracy: 0.5230\n",
            "Previous lr was 0.0010000000474974513 and new lr is 0.0010000000474974513\n",
            "Epoch 5/200\n",
            "505/505 [==============================] - 10s 21ms/step - loss: 1.2595 - accuracy: 0.5255 - val_loss: 1.1584 - val_accuracy: 0.5550\n",
            "Previous lr was 0.0010000000474974513 and new lr is 0.0010000000474974513\n",
            "Epoch 6/200\n",
            "505/505 [==============================] - 11s 21ms/step - loss: 1.1931 - accuracy: 0.5540 - val_loss: 1.1371 - val_accuracy: 0.5667\n",
            "Previous lr was 0.0010000000474974513 and new lr is 0.0010000000474974513\n",
            "Epoch 7/200\n",
            "505/505 [==============================] - 11s 21ms/step - loss: 1.1460 - accuracy: 0.5749 - val_loss: 1.0648 - val_accuracy: 0.5913\n",
            "Previous lr was 0.0010000000474974513 and new lr is 0.0010000000474974513\n",
            "Epoch 8/200\n",
            "505/505 [==============================] - 11s 21ms/step - loss: 1.0969 - accuracy: 0.5979 - val_loss: 1.0749 - val_accuracy: 0.5963\n",
            "Previous lr was 0.0010000000474974513 and new lr is 0.0010000000474974513\n",
            "Epoch 9/200\n",
            "505/505 [==============================] - 11s 21ms/step - loss: 1.0518 - accuracy: 0.6155 - val_loss: 1.0452 - val_accuracy: 0.6088\n",
            "Previous lr was 0.0010000000474974513 and new lr is 0.0010000000474974513\n",
            "Epoch 10/200\n",
            "505/505 [==============================] - 11s 21ms/step - loss: 1.0102 - accuracy: 0.6336 - val_loss: 1.0512 - val_accuracy: 0.6055\n",
            "Previous lr was 0.0010000000474974513 and new lr is 0.0010000000474974513\n",
            "Epoch 11/200\n",
            "505/505 [==============================] - 10s 21ms/step - loss: 0.9571 - accuracy: 0.6560 - val_loss: 1.0006 - val_accuracy: 0.6269\n",
            "Previous lr was 0.0010000000474974513 and new lr is 0.0010000000474974513\n",
            "Epoch 12/200\n",
            "505/505 [==============================] - 10s 21ms/step - loss: 0.9086 - accuracy: 0.6714 - val_loss: 0.9935 - val_accuracy: 0.6378\n",
            "Previous lr was 0.0010000000474974513 and new lr is 0.0010000000474974513\n",
            "Epoch 13/200\n",
            "505/505 [==============================] - 10s 21ms/step - loss: 0.8690 - accuracy: 0.6926 - val_loss: 1.0478 - val_accuracy: 0.6180\n",
            "Previous lr was 0.0010000000474974513 and new lr is 0.0010000000474974513\n",
            "Epoch 14/200\n",
            "505/505 [==============================] - 10s 21ms/step - loss: 0.8222 - accuracy: 0.7110 - val_loss: 0.9975 - val_accuracy: 0.6367\n",
            "Previous lr was 0.0010000000474974513 and new lr is 0.0010000000474974513\n",
            "Epoch 15/200\n",
            "505/505 [==============================] - 10s 21ms/step - loss: 0.7746 - accuracy: 0.7308 - val_loss: 1.0765 - val_accuracy: 0.6239\n",
            "Previous lr was 0.0010000000474974513 and new lr is 0.0010000000474974513\n",
            "Epoch 16/200\n",
            "505/505 [==============================] - 10s 21ms/step - loss: 0.7267 - accuracy: 0.7465 - val_loss: 1.1721 - val_accuracy: 0.5890\n",
            "Previous lr was 0.0010000000474974513 and new lr is 0.0010000000474974513\n",
            "Epoch 17/200\n",
            "505/505 [==============================] - 10s 21ms/step - loss: 0.6839 - accuracy: 0.7601 - val_loss: 1.1468 - val_accuracy: 0.6294\n",
            "Previous lr was 0.0010000000474974513 and new lr is 0.0010000000474974513\n",
            "Epoch 18/200\n",
            "505/505 [==============================] - 10s 21ms/step - loss: 0.6480 - accuracy: 0.7785 - val_loss: 1.0917 - val_accuracy: 0.6425\n",
            "Previous lr was 0.0010000000474974513 and new lr is 0.0010000000474974513\n",
            "Epoch 19/200\n",
            "505/505 [==============================] - 10s 21ms/step - loss: 0.6021 - accuracy: 0.7938 - val_loss: 1.0994 - val_accuracy: 0.6425\n",
            "Previous lr was 0.0010000000474974513 and new lr is 0.0010000000474974513\n",
            "Epoch 20/200\n",
            "505/505 [==============================] - 10s 21ms/step - loss: 0.5636 - accuracy: 0.8042 - val_loss: 1.1437 - val_accuracy: 0.6420\n",
            "Previous lr was 0.0010000000474974513 and new lr is 0.0010000000474974513\n",
            "Epoch 21/200\n",
            "505/505 [==============================] - 10s 21ms/step - loss: 0.5276 - accuracy: 0.8192 - val_loss: 1.1324 - val_accuracy: 0.6506\n",
            "Previous lr was 0.0010000000474974513 and new lr is 0.0010000000474974513\n",
            "Epoch 22/200\n",
            "505/505 [==============================] - 10s 21ms/step - loss: 0.5000 - accuracy: 0.8309 - val_loss: 1.1895 - val_accuracy: 0.6450\n",
            "Previous lr was 0.0010000000474974513 and new lr is 0.0010000000474974513\n",
            "Epoch 23/200\n",
            "505/505 [==============================] - 10s 21ms/step - loss: 0.4731 - accuracy: 0.8419 - val_loss: 1.1787 - val_accuracy: 0.6537\n",
            "Previous lr was 0.0010000000474974513 and new lr is 0.0010000000474974513\n",
            "Epoch 24/200\n",
            "505/505 [==============================] - 10s 21ms/step - loss: 0.4421 - accuracy: 0.8520 - val_loss: 1.2266 - val_accuracy: 0.6528\n",
            "Previous lr was 0.0010000000474974513 and new lr is 0.0010000000474974513\n",
            "Epoch 25/200\n",
            "505/505 [==============================] - 10s 21ms/step - loss: 0.4183 - accuracy: 0.8602 - val_loss: 1.2442 - val_accuracy: 0.6492\n",
            "Previous lr was 0.0010000000474974513 and new lr is 0.0010000000474974513\n",
            "Epoch 26/200\n",
            "505/505 [==============================] - 10s 21ms/step - loss: 0.4067 - accuracy: 0.8653 - val_loss: 1.2182 - val_accuracy: 0.6478\n",
            "Previous lr was 0.0010000000474974513 and new lr is 0.0010000000474974513\n",
            "Epoch 27/200\n",
            "505/505 [==============================] - 10s 21ms/step - loss: 0.3833 - accuracy: 0.8738 - val_loss: 1.2676 - val_accuracy: 0.6525\n",
            "Previous lr was 0.0010000000474974513 and new lr is 0.0010000000474974513\n",
            "Epoch 28/200\n",
            "505/505 [==============================] - 10s 21ms/step - loss: 0.3607 - accuracy: 0.8807 - val_loss: 1.3290 - val_accuracy: 0.6514\n",
            "Previous lr was 0.0010000000474974513 and new lr is 0.0010000000474974513\n",
            "Epoch 29/200\n",
            "505/505 [==============================] - 10s 21ms/step - loss: 0.3463 - accuracy: 0.8861 - val_loss: 1.3252 - val_accuracy: 0.6520\n",
            "Previous lr was 0.0010000000474974513 and new lr is 0.0010000000474974513\n",
            "Epoch 30/200\n",
            "505/505 [==============================] - 10s 21ms/step - loss: 0.3320 - accuracy: 0.8911 - val_loss: 1.3521 - val_accuracy: 0.6470\n",
            "Previous lr was 0.0010000000474974513 and new lr is 0.0010000000474974513\n",
            "Epoch 31/200\n",
            "505/505 [==============================] - 10s 21ms/step - loss: 0.3178 - accuracy: 0.8950 - val_loss: 1.4250 - val_accuracy: 0.6336\n",
            "Previous lr was 0.0010000000474974513 and new lr is 0.0010000000474974513\n",
            "Epoch 32/200\n",
            "505/505 [==============================] - 10s 21ms/step - loss: 0.3035 - accuracy: 0.9011 - val_loss: 1.3848 - val_accuracy: 0.6498\n",
            "Previous lr was 0.0010000000474974513 and new lr is 0.0010000000474974513\n",
            "Epoch 33/200\n",
            "505/505 [==============================] - 10s 20ms/step - loss: 0.2932 - accuracy: 0.9034 - val_loss: 1.4570 - val_accuracy: 0.6553\n",
            "Previous lr was 0.0010000000474974513 and new lr is 0.0010000000474974513\n",
            "Epoch 34/200\n",
            "505/505 [==============================] - 10s 21ms/step - loss: 0.2908 - accuracy: 0.9057 - val_loss: 1.4307 - val_accuracy: 0.6534\n",
            "Previous lr was 0.0010000000474974513 and new lr is 0.0010000000474974513\n",
            "Epoch 35/200\n",
            "505/505 [==============================] - 10s 21ms/step - loss: 0.2693 - accuracy: 0.9104 - val_loss: 1.4158 - val_accuracy: 0.6659\n",
            "Previous lr was 0.0010000000474974513 and new lr is 0.0010000000474974513\n",
            "Epoch 36/200\n",
            "505/505 [==============================] - 10s 21ms/step - loss: 0.2659 - accuracy: 0.9128 - val_loss: 1.4677 - val_accuracy: 0.6587\n",
            "Previous lr was 0.0010000000474974513 and new lr is 0.0010000000474974513\n",
            "Epoch 37/200\n",
            "505/505 [==============================] - 10s 20ms/step - loss: 0.2552 - accuracy: 0.9154 - val_loss: 1.4438 - val_accuracy: 0.6562\n",
            "Previous lr was 0.0010000000474974513 and new lr is 0.0010000000474974513\n",
            "Epoch 38/200\n",
            "505/505 [==============================] - 10s 20ms/step - loss: 0.2448 - accuracy: 0.9219 - val_loss: 1.5049 - val_accuracy: 0.6573\n",
            "Previous lr was 0.0010000000474974513 and new lr is 0.0010000000474974513\n",
            "Epoch 39/200\n",
            "505/505 [==============================] - 10s 21ms/step - loss: 0.2410 - accuracy: 0.9226 - val_loss: 1.4903 - val_accuracy: 0.6478\n",
            "Previous lr was 0.0010000000474974513 and new lr is 0.0010000000474974513\n",
            "Epoch 40/200\n",
            "505/505 [==============================] - 10s 21ms/step - loss: 0.2413 - accuracy: 0.9223 - val_loss: 1.4655 - val_accuracy: 0.6537\n",
            "Previous lr was 0.0010000000474974513 and new lr is 0.0010000000474974513\n",
            "Epoch 41/200\n",
            "505/505 [==============================] - 10s 20ms/step - loss: 0.2308 - accuracy: 0.9262 - val_loss: 1.5142 - val_accuracy: 0.6484\n",
            "Previous lr was 0.0010000000474974513 and new lr is 0.0010000000474974513\n",
            "Epoch 42/200\n",
            "505/505 [==============================] - 11s 21ms/step - loss: 0.2342 - accuracy: 0.9267 - val_loss: 1.5057 - val_accuracy: 0.6565\n",
            "Previous lr was 0.0010000000474974513 and new lr is 0.0010000000474974513\n",
            "Epoch 43/200\n",
            "505/505 [==============================] - 11s 21ms/step - loss: 0.2288 - accuracy: 0.9260 - val_loss: 1.4979 - val_accuracy: 0.6595\n",
            "Previous lr was 0.0010000000474974513 and new lr is 0.0010000000474974513\n",
            "Epoch 44/200\n",
            "505/505 [==============================] - 10s 21ms/step - loss: 0.2142 - accuracy: 0.9319 - val_loss: 1.4995 - val_accuracy: 0.6592\n",
            "Previous lr was 0.0010000000474974513 and new lr is 0.0010000000474974513\n",
            "Epoch 45/200\n",
            "505/505 [==============================] - 10s 20ms/step - loss: 0.2029 - accuracy: 0.9354 - val_loss: 1.5746 - val_accuracy: 0.6565\n",
            "Previous lr was 0.0010000000474974513 and new lr is 0.0010000000474974513\n",
            "Epoch 46/200\n",
            "505/505 [==============================] - 10s 20ms/step - loss: 0.2121 - accuracy: 0.9323 - val_loss: 1.5714 - val_accuracy: 0.6478\n",
            "Previous lr was 0.0010000000474974513 and new lr is 0.0010000000474974513\n",
            "Epoch 47/200\n",
            "505/505 [==============================] - 10s 20ms/step - loss: 0.2006 - accuracy: 0.9356 - val_loss: 1.5722 - val_accuracy: 0.6584\n",
            "Previous lr was 0.0010000000474974513 and new lr is 0.0010000000474974513\n",
            "Epoch 48/200\n",
            "505/505 [==============================] - 10s 20ms/step - loss: 0.1967 - accuracy: 0.9366 - val_loss: 1.5568 - val_accuracy: 0.6598\n",
            "Previous lr was 0.0010000000474974513 and new lr is 0.0010000000474974513\n",
            "Epoch 49/200\n",
            "505/505 [==============================] - 10s 20ms/step - loss: 0.1890 - accuracy: 0.9395 - val_loss: 1.5620 - val_accuracy: 0.6528\n",
            "Previous lr was 0.0010000000474974513 and new lr is 0.0010000000474974513\n",
            "Epoch 50/200\n",
            "505/505 [==============================] - 10s 20ms/step - loss: 0.1893 - accuracy: 0.9398 - val_loss: 1.5838 - val_accuracy: 0.6551\n",
            "Previous lr was 0.0010000000474974513 and new lr is 0.0010000000474974513\n",
            "Epoch 51/200\n",
            "505/505 [==============================] - 10s 20ms/step - loss: 0.1879 - accuracy: 0.9411 - val_loss: 1.5959 - val_accuracy: 0.6531\n",
            "Previous lr was 0.0010000000474974513 and new lr is 0.0009990010464510004\n",
            "Epoch 52/200\n",
            "505/505 [==============================] - 10s 20ms/step - loss: 0.1798 - accuracy: 0.9426 - val_loss: 1.5458 - val_accuracy: 0.6609\n",
            "Previous lr was 0.0009990010876208544 and new lr is 0.0009970070734739065\n",
            "Epoch 53/200\n",
            "505/505 [==============================] - 10s 20ms/step - loss: 0.1804 - accuracy: 0.9434 - val_loss: 1.5881 - val_accuracy: 0.6656\n",
            "Previous lr was 0.0009970071259886026 and new lr is 0.0009940250508360944\n",
            "Epoch 54/200\n",
            "505/505 [==============================] - 10s 20ms/step - loss: 0.1713 - accuracy: 0.9456 - val_loss: 1.6043 - val_accuracy: 0.6576\n",
            "Previous lr was 0.0009940250311046839 and new lr is 0.0009900647720166174\n",
            "Epoch 55/200\n",
            "505/505 [==============================] - 10s 20ms/step - loss: 0.1665 - accuracy: 0.9471 - val_loss: 1.6292 - val_accuracy: 0.6578\n",
            "Previous lr was 0.0009900648146867752 and new lr is 0.0009851391190913187\n",
            "Epoch 56/200\n",
            "505/505 [==============================] - 10s 20ms/step - loss: 0.1657 - accuracy: 0.9470 - val_loss: 1.6425 - val_accuracy: 0.6498\n",
            "Previous lr was 0.0009851391660049558 and new lr is 0.000979263584497968\n",
            "Epoch 57/200\n",
            "505/505 [==============================] - 10s 20ms/step - loss: 0.1647 - accuracy: 0.9474 - val_loss: 1.6390 - val_accuracy: 0.6623\n",
            "Previous lr was 0.0009792635682970285 and new lr is 0.0009724563736812599\n",
            "Epoch 58/200\n",
            "505/505 [==============================] - 10s 20ms/step - loss: 0.1633 - accuracy: 0.9476 - val_loss: 1.6610 - val_accuracy: 0.6581\n",
            "Previous lr was 0.0009724563569761813 and new lr is 0.0009647384493811323\n",
            "Epoch 59/200\n",
            "505/505 [==============================] - 10s 20ms/step - loss: 0.1480 - accuracy: 0.9531 - val_loss: 1.6986 - val_accuracy: 0.6495\n",
            "Previous lr was 0.0009647384285926819 and new lr is 0.0009561332295269395\n",
            "Epoch 60/200\n",
            "505/505 [==============================] - 10s 20ms/step - loss: 0.1615 - accuracy: 0.9493 - val_loss: 1.6228 - val_accuracy: 0.6693\n",
            "Previous lr was 0.0009561332408338785 and new lr is 0.000946666575083048\n",
            "Epoch 61/200\n",
            "505/505 [==============================] - 10s 20ms/step - loss: 0.1529 - accuracy: 0.9531 - val_loss: 1.6247 - val_accuracy: 0.6640\n",
            "Previous lr was 0.0009466665796935558 and new lr is 0.0009363665476691948\n",
            "Epoch 62/200\n",
            "505/505 [==============================] - 10s 20ms/step - loss: 0.1398 - accuracy: 0.9554 - val_loss: 1.7092 - val_accuracy: 0.6626\n",
            "Previous lr was 0.000936366559471935 and new lr is 0.0009252633986876828\n",
            "Epoch 63/200\n",
            "505/505 [==============================] - 10s 20ms/step - loss: 0.1443 - accuracy: 0.9548 - val_loss: 1.6860 - val_accuracy: 0.6598\n",
            "Previous lr was 0.0009252633899450302 and new lr is 0.0009133893286722906\n",
            "Epoch 64/200\n",
            "505/505 [==============================] - 10s 20ms/step - loss: 0.1432 - accuracy: 0.9552 - val_loss: 1.6865 - val_accuracy: 0.6531\n",
            "Previous lr was 0.0009133893181569874 and new lr is 0.0009007784202731631\n",
            "Epoch 65/200\n",
            "505/505 [==============================] - 10s 20ms/step - loss: 0.1351 - accuracy: 0.9582 - val_loss: 1.7316 - val_accuracy: 0.6643\n",
            "Previous lr was 0.0009007783955894411 and new lr is 0.0008874663995955085\n",
            "Epoch 66/200\n",
            "505/505 [==============================] - 10s 20ms/step - loss: 0.1341 - accuracy: 0.9574 - val_loss: 1.7662 - val_accuracy: 0.6654\n",
            "Previous lr was 0.0008874664199538529 and new lr is 0.0008734905708207214\n",
            "Epoch 67/200\n",
            "505/505 [==============================] - 10s 20ms/step - loss: 0.1313 - accuracy: 0.9597 - val_loss: 1.7450 - val_accuracy: 0.6634\n",
            "Previous lr was 0.0008734905859455466 and new lr is 0.0008588894650398689\n",
            "Epoch 68/200\n",
            "505/505 [==============================] - 10s 20ms/step - loss: 0.1257 - accuracy: 0.9613 - val_loss: 1.7665 - val_accuracy: 0.6629\n",
            "Previous lr was 0.0008588894852437079 and new lr is 0.0008437028342276109\n",
            "Epoch 69/200\n",
            "505/505 [==============================] - 10s 20ms/step - loss: 0.1207 - accuracy: 0.9624 - val_loss: 1.7067 - val_accuracy: 0.6701\n",
            "Previous lr was 0.0008437028154730797 and new lr is 0.0008279713596399213\n",
            "Epoch 70/200\n",
            "505/505 [==============================] - 10s 21ms/step - loss: 0.1247 - accuracy: 0.9618 - val_loss: 1.7599 - val_accuracy: 0.6615\n",
            "Previous lr was 0.0008279713802039623 and new lr is 0.0008117366472587866\n",
            "Epoch 71/200\n",
            "505/505 [==============================] - 10s 20ms/step - loss: 0.1170 - accuracy: 0.9637 - val_loss: 1.7368 - val_accuracy: 0.6612\n",
            "Previous lr was 0.0008117366232909262 and new lr is 0.0007950407671801433\n",
            "Epoch 72/200\n",
            "505/505 [==============================] - 10s 20ms/step - loss: 0.1092 - accuracy: 0.9669 - val_loss: 1.7809 - val_accuracy: 0.6682\n",
            "Previous lr was 0.0007950407452881336 and new lr is 0.0007779263652525768\n",
            "Epoch 73/200\n",
            "505/505 [==============================] - 10s 20ms/step - loss: 0.1091 - accuracy: 0.9673 - val_loss: 1.8163 - val_accuracy: 0.6634\n",
            "Previous lr was 0.0007779263542033732 and new lr is 0.0007604363188693776\n",
            "Epoch 74/200\n",
            "505/505 [==============================] - 10s 20ms/step - loss: 0.1020 - accuracy: 0.9699 - val_loss: 1.8389 - val_accuracy: 0.6631\n",
            "Previous lr was 0.0007604362908750772 and new lr is 0.0007426135653076926\n",
            "Epoch 75/200\n",
            "505/505 [==============================] - 10s 20ms/step - loss: 0.1066 - accuracy: 0.9664 - val_loss: 1.7920 - val_accuracy: 0.6698\n",
            "Previous lr was 0.0007426135707646608 and new lr is 0.0007245010446484497\n",
            "Epoch 76/200\n",
            "505/505 [==============================] - 10s 20ms/step - loss: 0.1069 - accuracy: 0.9676 - val_loss: 1.8023 - val_accuracy: 0.6737\n",
            "Previous lr was 0.0007245010347105563 and new lr is 0.0007061413593670139\n",
            "Epoch 77/200\n",
            "505/505 [==============================] - 10s 20ms/step - loss: 0.0922 - accuracy: 0.9722 - val_loss: 1.8524 - val_accuracy: 0.6679\n",
            "Previous lr was 0.0007061413489282131 and new lr is 0.0006875767759768385\n",
            "Epoch 78/200\n",
            "505/505 [==============================] - 10s 20ms/step - loss: 0.0966 - accuracy: 0.9707 - val_loss: 1.8243 - val_accuracy: 0.6704\n",
            "Previous lr was 0.0006875767721794546 and new lr is 0.0006688490001745666\n",
            "Epoch 79/200\n",
            "505/505 [==============================] - 10s 20ms/step - loss: 0.0889 - accuracy: 0.9727 - val_loss: 1.8759 - val_accuracy: 0.6751\n",
            "Previous lr was 0.0006688489811494946 and new lr is 0.0006499990098634545\n",
            "Epoch 80/200\n",
            "505/505 [==============================] - 10s 20ms/step - loss: 0.0897 - accuracy: 0.9727 - val_loss: 1.8680 - val_accuracy: 0.6620\n",
            "Previous lr was 0.0006499990122392774 and new lr is 0.0006310670021740557\n",
            "Epoch 81/200\n",
            "505/505 [==============================] - 10s 20ms/step - loss: 0.0824 - accuracy: 0.9752 - val_loss: 1.8716 - val_accuracy: 0.6687\n",
            "Previous lr was 0.000631067028734833 and new lr is 0.0006120921714207886\n",
            "Epoch 82/200\n",
            "505/505 [==============================] - 10s 20ms/step - loss: 0.0770 - accuracy: 0.9772 - val_loss: 1.8781 - val_accuracy: 0.6712\n",
            "Previous lr was 0.0006120921461842954 and new lr is 0.0005931125447522243\n",
            "Epoch 83/200\n",
            "505/505 [==============================] - 10s 20ms/step - loss: 0.0829 - accuracy: 0.9761 - val_loss: 1.8720 - val_accuracy: 0.6707\n",
            "Previous lr was 0.0005931125488132238 and new lr is 0.0005741651004968286\n",
            "Epoch 84/200\n",
            "505/505 [==============================] - 10s 20ms/step - loss: 0.0801 - accuracy: 0.9754 - val_loss: 1.9041 - val_accuracy: 0.6732\n",
            "Previous lr was 0.0005741650820709765 and new lr is 0.0005552853791788941\n",
            "Epoch 85/200\n",
            "505/505 [==============================] - 10s 20ms/step - loss: 0.0734 - accuracy: 0.9767 - val_loss: 1.9050 - val_accuracy: 0.6701\n",
            "Previous lr was 0.0005552853690460324 and new lr is 0.0005365076029430265\n",
            "Epoch 86/200\n",
            "505/505 [==============================] - 10s 20ms/step - loss: 0.0692 - accuracy: 0.9798 - val_loss: 1.9178 - val_accuracy: 0.6656\n",
            "Previous lr was 0.0005365075776353478 and new lr is 0.0005178644571769767\n",
            "Epoch 87/200\n",
            "505/505 [==============================] - 10s 20ms/step - loss: 0.0662 - accuracy: 0.9801 - val_loss: 1.9458 - val_accuracy: 0.6751\n",
            "Previous lr was 0.000517864478752017 and new lr is 0.0004993871540520898\n",
            "Epoch 88/200\n",
            "505/505 [==============================] - 10s 20ms/step - loss: 0.0678 - accuracy: 0.9798 - val_loss: 1.9477 - val_accuracy: 0.6665\n",
            "Previous lr was 0.0004993871552869678 and new lr is 0.0004811051592359998\n",
            "Epoch 89/200\n",
            "505/505 [==============================] - 10s 20ms/step - loss: 0.0663 - accuracy: 0.9811 - val_loss: 1.9587 - val_accuracy: 0.6673\n",
            "Previous lr was 0.00048110514762811363 and new lr is 0.00046304634035429607\n",
            "Epoch 90/200\n",
            "505/505 [==============================] - 10s 20ms/step - loss: 0.0585 - accuracy: 0.9824 - val_loss: 1.9829 - val_accuracy: 0.6715\n",
            "Previous lr was 0.0004630463372450322 and new lr is 0.00044523686273560784\n",
            "Epoch 91/200\n",
            "505/505 [==============================] - 10s 20ms/step - loss: 0.0641 - accuracy: 0.9807 - val_loss: 1.9434 - val_accuracy: 0.6729\n",
            "Previous lr was 0.0004452368593774736 and new lr is 0.0004277011137151524\n",
            "Epoch 92/200\n",
            "505/505 [==============================] - 10s 20ms/step - loss: 0.0607 - accuracy: 0.9815 - val_loss: 1.9697 - val_accuracy: 0.6698\n",
            "Previous lr was 0.0004277011030353606 and new lr is 0.0004104617111663729\n",
            "Epoch 93/200\n",
            "505/505 [==============================] - 10s 20ms/step - loss: 0.0563 - accuracy: 0.9825 - val_loss: 1.9641 - val_accuracy: 0.6734\n",
            "Previous lr was 0.0004104617109987885 and new lr is 0.00039353951198349806\n",
            "Epoch 94/200\n",
            "505/505 [==============================] - 10s 20ms/step - loss: 0.0535 - accuracy: 0.9837 - val_loss: 1.9818 - val_accuracy: 0.6746\n",
            "Previous lr was 0.0003935395216103643 and new lr is 0.0003769535647608854\n",
            "Epoch 95/200\n",
            "505/505 [==============================] - 10s 20ms/step - loss: 0.0592 - accuracy: 0.9832 - val_loss: 1.9747 - val_accuracy: 0.6799\n",
            "Previous lr was 0.0003769535687752068 and new lr is 0.000360721118445174\n",
            "Epoch 96/200\n",
            "505/505 [==============================] - 10s 20ms/step - loss: 0.0521 - accuracy: 0.9851 - val_loss: 1.9385 - val_accuracy: 0.6812\n",
            "Previous lr was 0.0003607211110647768 and new lr is 0.00034485765876173685\n",
            "Epoch 97/200\n",
            "505/505 [==============================] - 10s 20ms/step - loss: 0.0521 - accuracy: 0.9843 - val_loss: 1.9884 - val_accuracy: 0.6729\n",
            "Previous lr was 0.0003448576608207077 and new lr is 0.0003293769444323856\n",
            "Epoch 98/200\n",
            "505/505 [==============================] - 10s 20ms/step - loss: 0.0485 - accuracy: 0.9862 - val_loss: 1.9878 - val_accuracy: 0.6693\n",
            "Previous lr was 0.0003293769550509751 and new lr is 0.0003142909876440602\n",
            "Epoch 99/200\n",
            "505/505 [==============================] - 10s 20ms/step - loss: 0.0449 - accuracy: 0.9865 - val_loss: 2.0162 - val_accuracy: 0.6748\n",
            "Previous lr was 0.00031429098453372717 and new lr is 0.00029961009011794773\n",
            "Epoch 100/200\n",
            "505/505 [==============================] - 11s 21ms/step - loss: 0.0444 - accuracy: 0.9868 - val_loss: 2.0216 - val_accuracy: 0.6737\n",
            "Previous lr was 0.0002996100811287761 and new lr is 0.00028534293440835815\n",
            "Epoch 101/200\n",
            "505/505 [==============================] - 10s 20ms/step - loss: 0.0465 - accuracy: 0.9859 - val_loss: 2.0154 - val_accuracy: 0.6690\n",
            "Previous lr was 0.00028534294688142836 and new lr is 0.00027149661929726774\n",
            "Epoch 102/200\n",
            "505/505 [==============================] - 10s 20ms/step - loss: 0.0459 - accuracy: 0.9860 - val_loss: 2.0020 - val_accuracy: 0.6760\n",
            "Previous lr was 0.00027149662491865456 and new lr is 0.00025807663965651573\n",
            "Epoch 103/200\n",
            "505/505 [==============================] - 10s 20ms/step - loss: 0.0402 - accuracy: 0.9882 - val_loss: 2.0071 - val_accuracy: 0.6748\n",
            "Previous lr was 0.00025807664496824145 and new lr is 0.0002450870322585389\n",
            "Epoch 104/200\n",
            "505/505 [==============================] - 10s 20ms/step - loss: 0.0391 - accuracy: 0.9886 - val_loss: 2.0382 - val_accuracy: 0.6707\n",
            "Previous lr was 0.00024508702335879207 and new lr is 0.0002325303826933511\n",
            "Epoch 105/200\n",
            "505/505 [==============================] - 10s 20ms/step - loss: 0.0429 - accuracy: 0.9874 - val_loss: 2.0402 - val_accuracy: 0.6779\n",
            "Previous lr was 0.0002325303794350475 and new lr is 0.00022040794259246208\n",
            "Epoch 106/200\n",
            "505/505 [==============================] - 10s 20ms/step - loss: 0.0383 - accuracy: 0.9885 - val_loss: 2.0486 - val_accuracy: 0.6754\n",
            "Previous lr was 0.00022040793555788696 and new lr is 0.0002087196359449687\n",
            "Epoch 107/200\n",
            "505/505 [==============================] - 10s 20ms/step - loss: 0.0367 - accuracy: 0.9896 - val_loss: 2.0542 - val_accuracy: 0.6787\n",
            "Previous lr was 0.0002087196335196495 and new lr is 0.00019746417551527864\n",
            "Epoch 108/200\n",
            "505/505 [==============================] - 10s 20ms/step - loss: 0.0379 - accuracy: 0.9893 - val_loss: 2.0530 - val_accuracy: 0.6740\n",
            "Previous lr was 0.00019746417819987983 and new lr is 0.00018663910982975407\n",
            "Epoch 109/200\n",
            "505/505 [==============================] - 10s 20ms/step - loss: 0.0350 - accuracy: 0.9894 - val_loss: 2.0796 - val_accuracy: 0.6746\n",
            "Previous lr was 0.00018663911032490432 and new lr is 0.00017624089737951307\n",
            "Epoch 110/200\n",
            "505/505 [==============================] - 10s 20ms/step - loss: 0.0366 - accuracy: 0.9898 - val_loss: 2.0827 - val_accuracy: 0.6807\n",
            "Previous lr was 0.0001762408937793225 and new lr is 0.0001662649941314363\n",
            "Epoch 111/200\n",
            "505/505 [==============================] - 10s 20ms/step - loss: 0.0331 - accuracy: 0.9906 - val_loss: 2.1090 - val_accuracy: 0.6743\n",
            "Previous lr was 0.00016626498836558312 and new lr is 0.00015670592682901332\n",
            "Epoch 112/200\n",
            "505/505 [==============================] - 10s 20ms/step - loss: 0.0301 - accuracy: 0.9913 - val_loss: 2.1222 - val_accuracy: 0.6776\n",
            "Previous lr was 0.0001567059225635603 and new lr is 0.00014755736587905867\n",
            "Epoch 113/200\n",
            "505/505 [==============================] - 10s 20ms/step - loss: 0.0344 - accuracy: 0.9903 - val_loss: 2.1120 - val_accuracy: 0.6762\n",
            "Previous lr was 0.00014755736629012972 and new lr is 0.00013881219782702704\n",
            "Epoch 114/200\n",
            "505/505 [==============================] - 10s 20ms/step - loss: 0.0349 - accuracy: 0.9895 - val_loss: 2.1128 - val_accuracy: 0.6707\n",
            "Previous lr was 0.0001388122036587447 and new lr is 0.00013046259742363224\n",
            "Epoch 115/200\n",
            "505/505 [==============================] - 10s 20ms/step - loss: 0.0320 - accuracy: 0.9908 - val_loss: 2.1150 - val_accuracy: 0.6768\n",
            "Previous lr was 0.00013046259118709713 and new lr is 0.00012250008562168744\n",
            "Epoch 116/200\n",
            "505/505 [==============================] - 10s 20ms/step - loss: 0.0294 - accuracy: 0.9915 - val_loss: 2.1141 - val_accuracy: 0.6751\n",
            "Previous lr was 0.0001225000887643546 and new lr is 0.00011491565550127072\n",
            "Epoch 117/200\n",
            "505/505 [==============================] - 10s 20ms/step - loss: 0.0320 - accuracy: 0.9906 - val_loss: 2.1140 - val_accuracy: 0.6773\n",
            "Previous lr was 0.00011491565237520263 and new lr is 0.00010769976792427613\n",
            "Epoch 118/200\n",
            "505/505 [==============================] - 10s 20ms/step - loss: 0.0316 - accuracy: 0.9911 - val_loss: 2.1117 - val_accuracy: 0.6771\n",
            "Previous lr was 0.0001076997650670819 and new lr is 0.00010084247665457106\n",
            "Epoch 119/200\n",
            "505/505 [==============================] - 10s 20ms/step - loss: 0.0279 - accuracy: 0.9923 - val_loss: 2.1247 - val_accuracy: 0.6729\n",
            "Previous lr was 0.0001008424733299762 and new lr is 9.43334642937102e-05\n",
            "Epoch 120/200\n",
            "505/505 [==============================] - 10s 20ms/step - loss: 0.0269 - accuracy: 0.9922 - val_loss: 2.1342 - val_accuracy: 0.6790\n",
            "Previous lr was 9.433346713194624e-05 and new lr is 8.816211881490303e-05\n",
            "Epoch 121/200\n",
            "505/505 [==============================] - 10s 20ms/step - loss: 0.0305 - accuracy: 0.9915 - val_loss: 2.1213 - val_accuracy: 0.6751\n",
            "Previous lr was 8.816211629891768e-05 and new lr is 8.231756890655246e-05\n",
            "Epoch 122/200\n",
            "505/505 [==============================] - 10s 20ms/step - loss: 0.0263 - accuracy: 0.9923 - val_loss: 2.1452 - val_accuracy: 0.6771\n",
            "Previous lr was 8.231757237808779e-05 and new lr is 7.67887802034401e-05\n",
            "Epoch 123/200\n",
            "505/505 [==============================] - 10s 20ms/step - loss: 0.0287 - accuracy: 0.9918 - val_loss: 2.1319 - val_accuracy: 0.6765\n",
            "Previous lr was 7.678878318984061e-05 and new lr is 7.156456960842555e-05\n",
            "Epoch 124/200\n",
            "505/505 [==============================] - 10s 20ms/step - loss: 0.0245 - accuracy: 0.9926 - val_loss: 2.1375 - val_accuracy: 0.6779\n",
            "Previous lr was 7.156457286328077e-05 and new lr is 6.663368050584801e-05\n",
            "Epoch 125/200\n",
            "505/505 [==============================] - 10s 21ms/step - loss: 0.0276 - accuracy: 0.9916 - val_loss: 2.1350 - val_accuracy: 0.6771\n",
            "Previous lr was 6.663367821602151e-05 and new lr is 6.198481694513629e-05\n",
            "Epoch 126/200\n",
            "505/505 [==============================] - 10s 21ms/step - loss: 0.0265 - accuracy: 0.9924 - val_loss: 2.1414 - val_accuracy: 0.6796\n",
            "Previous lr was 6.198481423780322e-05 and new lr is 5.760670468197325e-05\n",
            "Epoch 127/200\n",
            "505/505 [==============================] - 10s 20ms/step - loss: 0.0267 - accuracy: 0.9921 - val_loss: 2.1522 - val_accuracy: 0.6787\n",
            "Previous lr was 5.760670319432393e-05 and new lr is 5.348811810057932e-05\n",
            "Epoch 128/200\n",
            "505/505 [==============================] - 10s 20ms/step - loss: 0.0275 - accuracy: 0.9922 - val_loss: 2.1378 - val_accuracy: 0.6801\n",
            "Previous lr was 5.348811828298494e-05 and new lr is 4.961792048514373e-05\n",
            "Epoch 129/200\n",
            "505/505 [==============================] - 10s 20ms/step - loss: 0.0249 - accuracy: 0.9928 - val_loss: 2.1499 - val_accuracy: 0.6776\n",
            "Previous lr was 4.961792001267895e-05 and new lr is 4.598509732407688e-05\n",
            "Epoch 130/200\n",
            "505/505 [==============================] - 11s 21ms/step - loss: 0.0238 - accuracy: 0.9927 - val_loss: 2.1451 - val_accuracy: 0.6765\n",
            "Previous lr was 4.598509622155689e-05 and new lr is 4.257879279773785e-05\n",
            "Epoch 131/200\n",
            "505/505 [==============================] - 10s 20ms/step - loss: 0.0251 - accuracy: 0.9928 - val_loss: 2.1571 - val_accuracy: 0.6787\n",
            "Previous lr was 4.257879118085839e-05 and new lr is 3.938833596749157e-05\n",
            "Epoch 132/200\n",
            "505/505 [==============================] - 10s 21ms/step - loss: 0.0243 - accuracy: 0.9927 - val_loss: 2.1522 - val_accuracy: 0.6790\n",
            "Previous lr was 3.9388334698742256e-05 and new lr is 3.640326681953998e-05\n",
            "Epoch 133/200\n",
            "505/505 [==============================] - 10s 20ms/step - loss: 0.0254 - accuracy: 0.9928 - val_loss: 2.1497 - val_accuracy: 0.6782\n",
            "Previous lr was 3.64032675861381e-05 and new lr is 3.361335880529834e-05\n",
            "Epoch 134/200\n",
            "505/505 [==============================] - 10s 20ms/step - loss: 0.0252 - accuracy: 0.9926 - val_loss: 2.1570 - val_accuracy: 0.6793\n",
            "Previous lr was 3.361335984664038e-05 and new lr is 3.1008634544871195e-05\n",
            "Epoch 135/200\n",
            "505/505 [==============================] - 10s 20ms/step - loss: 0.0244 - accuracy: 0.9931 - val_loss: 2.1631 - val_accuracy: 0.6793\n",
            "Previous lr was 3.1008636142360047e-05 and new lr is 2.8579388149640595e-05\n",
            "Epoch 136/200\n",
            "505/505 [==============================] - 10s 20ms/step - loss: 0.0236 - accuracy: 0.9929 - val_loss: 2.1573 - val_accuracy: 0.6790\n",
            "Previous lr was 2.857938852685038e-05 and new lr is 2.6316195696915636e-05\n",
            "Epoch 137/200\n",
            "505/505 [==============================] - 10s 21ms/step - loss: 0.0245 - accuracy: 0.9937 - val_loss: 2.1637 - val_accuracy: 0.6768\n",
            "Previous lr was 2.6316196453990415e-05 and new lr is 2.4209932340377565e-05\n",
            "Epoch 138/200\n",
            "505/505 [==============================] - 10s 21ms/step - loss: 0.0226 - accuracy: 0.9928 - val_loss: 2.1588 - val_accuracy: 0.6793\n",
            "Previous lr was 2.4209932234953158e-05 and new lr is 2.225177595124371e-05\n",
            "Epoch 139/200\n",
            "505/505 [==============================] - 10s 20ms/step - loss: 0.0215 - accuracy: 0.9937 - val_loss: 2.1657 - val_accuracy: 0.6782\n",
            "Previous lr was 2.2251775590120815e-05 and new lr is 2.043321909102003e-05\n",
            "Epoch 140/200\n",
            "505/505 [==============================] - 10s 20ms/step - loss: 0.0244 - accuracy: 0.9925 - val_loss: 2.1617 - val_accuracy: 0.6776\n",
            "Previous lr was 2.0433219106053002e-05 and new lr is 1.874607257436055e-05\n",
            "Epoch 141/200\n",
            "505/505 [==============================] - 10s 21ms/step - loss: 0.0220 - accuracy: 0.9933 - val_loss: 2.1623 - val_accuracy: 0.6771\n",
            "Previous lr was 1.8746071873465553e-05 and new lr is 1.7182467345064668e-05\n",
            "Epoch 142/200\n",
            "505/505 [==============================] - 10s 21ms/step - loss: 0.0213 - accuracy: 0.9939 - val_loss: 2.1650 - val_accuracy: 0.6768\n",
            "Previous lr was 1.718246676318813e-05 and new lr is 1.5734859673249205e-05\n",
            "Epoch 143/200\n",
            "505/505 [==============================] - 10s 20ms/step - loss: 0.0257 - accuracy: 0.9929 - val_loss: 2.1686 - val_accuracy: 0.6754\n",
            "Previous lr was 1.5734860426164232e-05 and new lr is 1.4396029667121897e-05\n",
            "Epoch 144/200\n",
            "505/505 [==============================] - 10s 21ms/step - loss: 0.0243 - accuracy: 0.9924 - val_loss: 2.1743 - val_accuracy: 0.6760\n",
            "Previous lr was 1.4396029655472375e-05 and new lr is 1.3159076467525023e-05\n",
            "Epoch 145/200\n",
            "505/505 [==============================] - 10s 21ms/step - loss: 0.0242 - accuracy: 0.9931 - val_loss: 2.1763 - val_accuracy: 0.6771\n",
            "Previous lr was 1.3159076843294315e-05 and new lr is 1.2017421774698006e-05\n",
            "Epoch 146/200\n",
            "505/505 [==============================] - 10s 21ms/step - loss: 0.0234 - accuracy: 0.9934 - val_loss: 2.1694 - val_accuracy: 0.6757\n",
            "Previous lr was 1.2017421795462724e-05 and new lr is 1.0964800908268907e-05\n",
            "Epoch 147/200\n",
            "505/505 [==============================] - 10s 21ms/step - loss: 0.0246 - accuracy: 0.9931 - val_loss: 2.1685 - val_accuracy: 0.6796\n",
            "Previous lr was 1.0964800821966492e-05 and new lr is 9.995260548738826e-06\n",
            "Epoch 148/200\n",
            "505/505 [==============================] - 10s 21ms/step - loss: 0.0240 - accuracy: 0.9930 - val_loss: 2.1656 - val_accuracy: 0.6787\n",
            "Previous lr was 9.995260370487813e-06 and new lr is 9.10315152139145e-06\n",
            "Epoch 149/200\n",
            "505/505 [==============================] - 10s 20ms/step - loss: 0.0228 - accuracy: 0.9926 - val_loss: 2.1708 - val_accuracy: 0.6793\n",
            "Previous lr was 9.103151569433976e-06 and new lr is 8.283122447164674e-06\n",
            "Epoch 150/200\n",
            "505/505 [==============================] - 10s 21ms/step - loss: 0.0236 - accuracy: 0.9933 - val_loss: 2.1684 - val_accuracy: 0.6771\n",
            "Previous lr was 8.283122042485047e-06 and new lr is 7.530110947713679e-06\n",
            "Epoch 151/200\n",
            "505/505 [==============================] - 10s 21ms/step - loss: 0.0235 - accuracy: 0.9935 - val_loss: 2.1735 - val_accuracy: 0.6782\n",
            "Previous lr was 7.530110906373011e-06 and new lr is 6.839337789621264e-06\n",
            "Epoch 152/200\n",
            "505/505 [==============================] - 10s 21ms/step - loss: 0.0242 - accuracy: 0.9930 - val_loss: 2.1748 - val_accuracy: 0.6773\n",
            "Previous lr was 6.839337856945349e-06 and new lr is 6.206295695957667e-06\n",
            "Epoch 153/200\n",
            "505/505 [==============================] - 10s 20ms/step - loss: 0.0210 - accuracy: 0.9937 - val_loss: 2.1713 - val_accuracy: 0.6768\n",
            "Previous lr was 6.206295893207425e-06 and new lr is 5.626741516960494e-06\n",
            "Epoch 154/200\n",
            "505/505 [==============================] - 10s 21ms/step - loss: 0.0239 - accuracy: 0.9927 - val_loss: 2.1741 - val_accuracy: 0.6787\n",
            "Previous lr was 5.6267413128807675e-06 and new lr is 5.096685971812289e-06\n",
            "Epoch 155/200\n",
            "505/505 [==============================] - 10s 21ms/step - loss: 0.0211 - accuracy: 0.9933 - val_loss: 2.1702 - val_accuracy: 0.6779\n",
            "Previous lr was 5.096685981698101e-06 and new lr is 4.612385503799187e-06\n",
            "Epoch 156/200\n",
            "505/505 [==============================] - 10s 21ms/step - loss: 0.0220 - accuracy: 0.9931 - val_loss: 2.1695 - val_accuracy: 0.6771\n",
            "Previous lr was 4.612385509972228e-06 and new lr is 4.1703304791792295e-06\n",
            "Epoch 157/200\n",
            "505/505 [==============================] - 10s 21ms/step - loss: 0.0221 - accuracy: 0.9942 - val_loss: 2.1787 - val_accuracy: 0.6765\n",
            "Previous lr was 4.170330612396356e-06 and new lr is 3.767236325561297e-06\n",
            "Epoch 158/200\n",
            "505/505 [==============================] - 10s 20ms/step - loss: 0.0228 - accuracy: 0.9929 - val_loss: 2.1757 - val_accuracy: 0.6765\n",
            "Previous lr was 3.767236421481357e-06 and new lr is 3.4000328713730655e-06\n",
            "Epoch 159/200\n",
            "505/505 [==============================] - 10s 21ms/step - loss: 0.0235 - accuracy: 0.9933 - val_loss: 2.1708 - val_accuracy: 0.6771\n",
            "Previous lr was 3.400032937861397e-06 and new lr is 3.0658547681347134e-06\n",
            "Epoch 160/200\n",
            "505/505 [==============================] - 11s 21ms/step - loss: 0.0228 - accuracy: 0.9935 - val_loss: 2.1809 - val_accuracy: 0.6779\n",
            "Previous lr was 3.06585479847854e-06 and new lr is 2.7620313499806665e-06\n",
            "Epoch 161/200\n",
            "505/505 [==============================] - 10s 20ms/step - loss: 0.0263 - accuracy: 0.9926 - val_loss: 2.1740 - val_accuracy: 0.6773\n",
            "Previous lr was 2.76203127214103e-06 and new lr is 2.4860767526021872e-06\n",
            "Epoch 162/200\n",
            "505/505 [==============================] - 10s 21ms/step - loss: 0.0236 - accuracy: 0.9933 - val_loss: 2.1819 - val_accuracy: 0.6779\n",
            "Previous lr was 2.4860767098289216e-06 and new lr is 2.235680494450469e-06\n",
            "Epoch 163/200\n",
            "505/505 [==============================] - 10s 21ms/step - loss: 0.0231 - accuracy: 0.9934 - val_loss: 2.1665 - val_accuracy: 0.6776\n",
            "Previous lr was 2.2356805402523605e-06 and new lr is 2.0086977001368916e-06\n",
            "Epoch 164/200\n",
            "505/505 [==============================] - 10s 21ms/step - loss: 0.0231 - accuracy: 0.9930 - val_loss: 2.1703 - val_accuracy: 0.6762\n",
            "Previous lr was 2.0086977201572154e-06 and new lr is 1.8031397847012703e-06\n",
            "Epoch 165/200\n",
            "505/505 [==============================] - 10s 20ms/step - loss: 0.0229 - accuracy: 0.9940 - val_loss: 2.1711 - val_accuracy: 0.6782\n",
            "Previous lr was 1.8031397530648974e-06 and new lr is 1.6171656978160516e-06\n",
            "Epoch 166/200\n",
            "505/505 [==============================] - 10s 21ms/step - loss: 0.0236 - accuracy: 0.9935 - val_loss: 2.1761 - val_accuracy: 0.6785\n",
            "Previous lr was 1.6171657080121804e-06 and new lr is 1.4490732150646777e-06\n",
            "Epoch 167/200\n",
            "505/505 [==============================] - 10s 20ms/step - loss: 0.0247 - accuracy: 0.9927 - val_loss: 2.1667 - val_accuracy: 0.6790\n",
            "Previous lr was 1.449073238291021e-06 and new lr is 1.2972902759991235e-06\n",
            "Epoch 168/200\n",
            "505/505 [==============================] - 10s 20ms/step - loss: 0.0237 - accuracy: 0.9930 - val_loss: 2.1756 - val_accuracy: 0.6779\n",
            "Previous lr was 1.2972902823094046e-06 and new lr is 1.160366978809843e-06\n",
            "Epoch 169/200\n",
            "505/505 [==============================] - 10s 21ms/step - loss: 0.0219 - accuracy: 0.9937 - val_loss: 2.1705 - val_accuracy: 0.6779\n",
            "Previous lr was 1.1603669918258674e-06 and new lr is 1.0369678211133756e-06\n",
            "Epoch 170/200\n",
            "505/505 [==============================] - 10s 21ms/step - loss: 0.0216 - accuracy: 0.9931 - val_loss: 2.1753 - val_accuracy: 0.6776\n",
            "Previous lr was 1.036967773870856e-06 and new lr is 9.258640838132642e-07\n",
            "Epoch 171/200\n",
            "505/505 [==============================] - 10s 21ms/step - loss: 0.0226 - accuracy: 0.9933 - val_loss: 2.1730 - val_accuracy: 0.6776\n",
            "Previous lr was 9.258640716325317e-07 and new lr is 8.259269149264333e-07\n",
            "Epoch 172/200\n",
            "505/505 [==============================] - 10s 21ms/step - loss: 0.0233 - accuracy: 0.9933 - val_loss: 2.1743 - val_accuracy: 0.6785\n",
            "Previous lr was 8.259269179688999e-07 and new lr is 7.361202477441177e-07\n",
            "Epoch 173/200\n",
            "505/505 [==============================] - 10s 21ms/step - loss: 0.0227 - accuracy: 0.9940 - val_loss: 2.1727 - val_accuracy: 0.6771\n",
            "Previous lr was 7.361202278843848e-07 and new lr is 6.554944148569767e-07\n",
            "Epoch 174/200\n",
            "505/505 [==============================] - 10s 21ms/step - loss: 0.0257 - accuracy: 0.9926 - val_loss: 2.1743 - val_accuracy: 0.6776\n",
            "Previous lr was 6.554944320669165e-07 and new lr is 5.831800997036622e-07\n",
            "Epoch 175/200\n",
            "505/505 [==============================] - 10s 21ms/step - loss: 0.0235 - accuracy: 0.9935 - val_loss: 2.1724 - val_accuracy: 0.6790\n",
            "Previous lr was 5.831801104250189e-07 and new lr is 5.183823203777946e-07\n",
            "Epoch 176/200\n",
            "505/505 [==============================] - 10s 21ms/step - loss: 0.0231 - accuracy: 0.9937 - val_loss: 2.1788 - val_accuracy: 0.6773\n",
            "Previous lr was 5.183823077459238e-07 and new lr is 4.6037505128412417e-07\n",
            "Epoch 177/200\n",
            "505/505 [==============================] - 10s 21ms/step - loss: 0.0235 - accuracy: 0.9930 - val_loss: 2.1746 - val_accuracy: 0.6779\n",
            "Previous lr was 4.603750483056501e-07 and new lr is 4.084960499606478e-07\n",
            "Epoch 178/200\n",
            "505/505 [==============================] - 11s 21ms/step - loss: 0.0232 - accuracy: 0.9934 - val_loss: 2.1703 - val_accuracy: 0.6779\n",
            "Previous lr was 4.084960494310508e-07 and new lr is 3.621418877934847e-07\n",
            "Epoch 179/200\n",
            "505/505 [==============================] - 10s 21ms/step - loss: 0.0236 - accuracy: 0.9930 - val_loss: 2.1695 - val_accuracy: 0.6782\n",
            "Previous lr was 3.621418898092088e-07 and new lr is 3.2076340992844e-07\n",
            "Epoch 180/200\n",
            "505/505 [==============================] - 11s 21ms/step - loss: 0.0229 - accuracy: 0.9933 - val_loss: 2.1657 - val_accuracy: 0.6782\n",
            "Previous lr was 3.2076340517050994e-07 and new lr is 2.8386142050487607e-07\n",
            "Epoch 181/200\n",
            "505/505 [==============================] - 11s 21ms/step - loss: 0.0233 - accuracy: 0.9932 - val_loss: 2.1782 - val_accuracy: 0.6760\n",
            "Previous lr was 2.83861425032228e-07 and new lr is 2.5098269233618744e-07\n",
            "Epoch 182/200\n",
            "505/505 [==============================] - 10s 21ms/step - loss: 0.0219 - accuracy: 0.9935 - val_loss: 2.1715 - val_accuracy: 0.6785\n",
            "Previous lr was 2.509826799723669e-07 and new lr is 2.217161483854831e-07\n",
            "Epoch 183/200\n",
            "505/505 [==============================] - 10s 21ms/step - loss: 0.0244 - accuracy: 0.9923 - val_loss: 2.1807 - val_accuracy: 0.6773\n",
            "Previous lr was 2.2171614943999884e-07 and new lr is 1.9568945228596544e-07\n",
            "Epoch 184/200\n",
            "505/505 [==============================] - 10s 21ms/step - loss: 0.0224 - accuracy: 0.9936 - val_loss: 2.1744 - val_accuracy: 0.6779\n",
            "Previous lr was 1.956894521981667e-07 and new lr is 1.7256565449573784e-07\n",
            "Epoch 185/200\n",
            "505/505 [==============================] - 10s 21ms/step - loss: 0.0225 - accuracy: 0.9930 - val_loss: 2.1786 - val_accuracy: 0.6785\n",
            "Previous lr was 1.72565648881573e-07 and new lr is 1.5204021927891893e-07\n",
            "Epoch 186/200\n",
            "505/505 [==============================] - 10s 21ms/step - loss: 0.0244 - accuracy: 0.9935 - val_loss: 2.1709 - val_accuracy: 0.6782\n",
            "Previous lr was 1.520402150845257e-07 and new lr is 1.338382175039839e-07\n",
            "Epoch 187/200\n",
            "505/505 [==============================] - 10s 21ms/step - loss: 0.0230 - accuracy: 0.9932 - val_loss: 2.1787 - val_accuracy: 0.6785\n",
            "Previous lr was 1.3383821340084978e-07 and new lr is 1.1771170923557588e-07\n",
            "Epoch 188/200\n",
            "505/505 [==============================] - 10s 21ms/step - loss: 0.0233 - accuracy: 0.9930 - val_loss: 2.1767 - val_accuracy: 0.6785\n",
            "Previous lr was 1.1771170704832912e-07 and new lr is 1.0343735241505196e-07\n",
            "Epoch 189/200\n",
            "505/505 [==============================] - 10s 21ms/step - loss: 0.0226 - accuracy: 0.9935 - val_loss: 2.1793 - val_accuracy: 0.6771\n",
            "Previous lr was 1.0343735112883223e-07 and new lr is 9.081418009555069e-08\n",
            "Epoch 190/200\n",
            "505/505 [==============================] - 11s 21ms/step - loss: 0.0218 - accuracy: 0.9938 - val_loss: 2.1733 - val_accuracy: 0.6779\n",
            "Previous lr was 9.08141828404041e-08 and new lr is 7.966156389509131e-08\n",
            "Epoch 191/200\n",
            "505/505 [==============================] - 10s 21ms/step - loss: 0.0225 - accuracy: 0.9935 - val_loss: 2.1705 - val_accuracy: 0.6787\n",
            "Previous lr was 7.966156090333243e-08 and new lr is 6.98173189336831e-08\n",
            "Epoch 192/200\n",
            "505/505 [==============================] - 10s 21ms/step - loss: 0.0254 - accuracy: 0.9931 - val_loss: 2.1737 - val_accuracy: 0.6787\n",
            "Previous lr was 6.981731814903469e-08 and new lr is 6.11360053844437e-08\n",
            "Epoch 193/200\n",
            "505/505 [==============================] - 10s 21ms/step - loss: 0.0241 - accuracy: 0.9933 - val_loss: 2.1758 - val_accuracy: 0.6776\n",
            "Previous lr was 6.113600647950079e-08 and new lr is 5.348731975459387e-08\n",
            "Epoch 194/200\n",
            "505/505 [==============================] - 10s 21ms/step - loss: 0.0222 - accuracy: 0.9937 - val_loss: 2.1798 - val_accuracy: 0.6773\n",
            "Previous lr was 5.348731946241969e-08 and new lr is 4.6754649879737486e-08\n",
            "Epoch 195/200\n",
            "505/505 [==============================] - 11s 21ms/step - loss: 0.0216 - accuracy: 0.9936 - val_loss: 2.1681 - val_accuracy: 0.6782\n",
            "Previous lr was 4.6754649929425796e-08 and new lr is 4.0833755396878424e-08\n",
            "Epoch 196/200\n",
            "505/505 [==============================] - 11s 21ms/step - loss: 0.0221 - accuracy: 0.9936 - val_loss: 2.1733 - val_accuracy: 0.6779\n",
            "Previous lr was 4.083375415575574e-08 and new lr is 3.5631548128931715e-08\n",
            "Epoch 197/200\n",
            "505/505 [==============================] - 11s 21ms/step - loss: 0.0235 - accuracy: 0.9933 - val_loss: 2.1772 - val_accuracy: 0.6773\n",
            "Previous lr was 3.563154749031128e-08 and new lr is 3.1064993452756125e-08\n",
            "Epoch 198/200\n",
            "505/505 [==============================] - 10s 21ms/step - loss: 0.0214 - accuracy: 0.9938 - val_loss: 2.1753 - val_accuracy: 0.6779\n",
            "Previous lr was 3.10649923562778e-08 and new lr is 2.7060097871322126e-08\n",
            "Epoch 199/200\n",
            "505/505 [==============================] - 10s 21ms/step - loss: 0.0212 - accuracy: 0.9937 - val_loss: 2.1793 - val_accuracy: 0.6782\n",
            "Previous lr was 2.7060098162223767e-08 and new lr is 2.3550999270864897e-08\n",
            "Epoch 200/200\n",
            "505/505 [==============================] - 10s 21ms/step - loss: 0.0235 - accuracy: 0.9931 - val_loss: 2.1790 - val_accuracy: 0.6765\n"
          ],
          "name": "stdout"
        },
        {
          "output_type": "execute_result",
          "data": {
            "text/plain": [
              "<tensorflow.python.keras.callbacks.History at 0x7fa0dedd2ef0>"
            ]
          },
          "metadata": {
            "tags": []
          },
          "execution_count": 24
        }
      ]
    },
    {
      "cell_type": "code",
      "metadata": {
        "id": "ODB1vTGRoefk",
        "outputId": "242e9a3b-191d-47df-dba9-6a84fb93a35b",
        "colab": {
          "base_uri": "https://localhost:8080/",
          "height": 1000
        }
      },
      "source": [
        "model.summary()"
      ],
      "execution_count": 26,
      "outputs": [
        {
          "output_type": "stream",
          "text": [
            "Model: \"sequential_2\"\n",
            "_________________________________________________________________\n",
            "Layer (type)                 Output Shape              Param #   \n",
            "=================================================================\n",
            "conv2d_15 (Conv2D)           (None, 48, 48, 32)        320       \n",
            "_________________________________________________________________\n",
            "batch_normalization_14 (Batc (None, 48, 48, 32)        128       \n",
            "_________________________________________________________________\n",
            "conv2d_16 (Conv2D)           (None, 48, 48, 32)        9248      \n",
            "_________________________________________________________________\n",
            "batch_normalization_15 (Batc (None, 48, 48, 32)        128       \n",
            "_________________________________________________________________\n",
            "max_pooling2d_7 (MaxPooling2 (None, 24, 24, 32)        0         \n",
            "_________________________________________________________________\n",
            "dropout_7 (Dropout)          (None, 24, 24, 32)        0         \n",
            "_________________________________________________________________\n",
            "conv2d_17 (Conv2D)           (None, 24, 24, 64)        18496     \n",
            "_________________________________________________________________\n",
            "batch_normalization_16 (Batc (None, 24, 24, 64)        256       \n",
            "_________________________________________________________________\n",
            "conv2d_18 (Conv2D)           (None, 24, 24, 64)        36928     \n",
            "_________________________________________________________________\n",
            "batch_normalization_17 (Batc (None, 24, 24, 64)        256       \n",
            "_________________________________________________________________\n",
            "max_pooling2d_8 (MaxPooling2 (None, 12, 12, 64)        0         \n",
            "_________________________________________________________________\n",
            "dropout_8 (Dropout)          (None, 12, 12, 64)        0         \n",
            "_________________________________________________________________\n",
            "conv2d_19 (Conv2D)           (None, 12, 12, 128)       73856     \n",
            "_________________________________________________________________\n",
            "batch_normalization_18 (Batc (None, 12, 12, 128)       512       \n",
            "_________________________________________________________________\n",
            "conv2d_20 (Conv2D)           (None, 12, 12, 128)       147584    \n",
            "_________________________________________________________________\n",
            "batch_normalization_19 (Batc (None, 12, 12, 128)       512       \n",
            "_________________________________________________________________\n",
            "max_pooling2d_9 (MaxPooling2 (None, 6, 6, 128)         0         \n",
            "_________________________________________________________________\n",
            "dropout_9 (Dropout)          (None, 6, 6, 128)         0         \n",
            "_________________________________________________________________\n",
            "conv2d_21 (Conv2D)           (None, 6, 6, 256)         295168    \n",
            "_________________________________________________________________\n",
            "batch_normalization_20 (Batc (None, 6, 6, 256)         1024      \n",
            "_________________________________________________________________\n",
            "conv2d_22 (Conv2D)           (None, 6, 6, 256)         590080    \n",
            "_________________________________________________________________\n",
            "batch_normalization_21 (Batc (None, 6, 6, 256)         1024      \n",
            "_________________________________________________________________\n",
            "max_pooling2d_10 (MaxPooling (None, 3, 3, 256)         0         \n",
            "_________________________________________________________________\n",
            "dropout_10 (Dropout)         (None, 3, 3, 256)         0         \n",
            "_________________________________________________________________\n",
            "flatten_1 (Flatten)          (None, 2304)              0         \n",
            "_________________________________________________________________\n",
            "dense (Dense)                (None, 64)                147520    \n",
            "_________________________________________________________________\n",
            "batch_normalization_22 (Batc (None, 64)                256       \n",
            "_________________________________________________________________\n",
            "dropout_11 (Dropout)         (None, 64)                0         \n",
            "_________________________________________________________________\n",
            "dense_1 (Dense)              (None, 64)                4160      \n",
            "_________________________________________________________________\n",
            "batch_normalization_23 (Batc (None, 64)                256       \n",
            "_________________________________________________________________\n",
            "dropout_12 (Dropout)         (None, 64)                0         \n",
            "_________________________________________________________________\n",
            "dense_2 (Dense)              (None, 7)                 455       \n",
            "=================================================================\n",
            "Total params: 1,328,167\n",
            "Trainable params: 1,325,991\n",
            "Non-trainable params: 2,176\n",
            "_________________________________________________________________\n"
          ],
          "name": "stdout"
        }
      ]
    },
    {
      "cell_type": "code",
      "metadata": {
        "id": "yHOVDtUG7Mmc"
      },
      "source": [
        "l=model.to_json()\n",
        "with open('emotion recognition.json','w') as p:\n",
        "  p.write(l)\n",
        "model.save_weights('emotion recognition.h5')"
      ],
      "execution_count": 27,
      "outputs": []
    },
    {
      "cell_type": "code",
      "metadata": {
        "id": "fy7FxSHk0o2r"
      },
      "source": [
        "model.save('/content/drive/My Drive/emotions.h5')"
      ],
      "execution_count": 29,
      "outputs": []
    },
    {
      "cell_type": "code",
      "metadata": {
        "id": "gdoIG1lAw61A"
      },
      "source": [
        "model=load_model('/content/drive/My Drive/emotions')"
      ],
      "execution_count": 19,
      "outputs": []
    },
    {
      "cell_type": "code",
      "metadata": {
        "id": "4EI2GeEXyQy_"
      },
      "source": [
        "model.predict(test_x[])"
      ],
      "execution_count": null,
      "outputs": []
    }
  ]
}